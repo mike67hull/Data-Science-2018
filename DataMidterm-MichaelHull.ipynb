{
 "cells": [
  {
   "cell_type": "markdown",
   "metadata": {},
   "source": [
    "#### Michael Hull\n",
    "#### Intro to Data Science\n",
    "#### Midterm Data Project\n",
    "#### October 16, 2018\n",
    "____\n",
    "__ United States data for: __ * US Death Data 1999-2016 *\n",
    "\n",
    "   __ Data Harvested From: __ [Data.gov](https://catalog.data.gov/dataset/age-adjusted-death-rates-for-the-top-10-leading-causes-of-death-united-states-2013)"
   ]
  },
  {
   "cell_type": "code",
   "execution_count": 158,
   "metadata": {},
   "outputs": [],
   "source": [
    "import pandas as pd\n",
    "import numpy as np\n",
    "import matplotlib.pyplot as plt\n",
    "from sklearn import linear_model"
   ]
  },
  {
   "cell_type": "markdown",
   "metadata": {},
   "source": [
    "This is the data for the top ten leading causes of death by year from 1999 to 2016 for each state (and the District of Columbia)."
   ]
  },
  {
   "cell_type": "code",
   "execution_count": 159,
   "metadata": {},
   "outputs": [
    {
     "data": {
      "text/html": [
       "<div>\n",
       "<style scoped>\n",
       "    .dataframe tbody tr th:only-of-type {\n",
       "        vertical-align: middle;\n",
       "    }\n",
       "\n",
       "    .dataframe tbody tr th {\n",
       "        vertical-align: top;\n",
       "    }\n",
       "\n",
       "    .dataframe thead th {\n",
       "        text-align: right;\n",
       "    }\n",
       "</style>\n",
       "<table border=\"1\" class=\"dataframe\">\n",
       "  <thead>\n",
       "    <tr style=\"text-align: right;\">\n",
       "      <th></th>\n",
       "      <th>Year</th>\n",
       "      <th>113 Cause Name</th>\n",
       "      <th>Cause Name</th>\n",
       "      <th>State</th>\n",
       "      <th>Deaths</th>\n",
       "      <th>Age-adjusted Death Rate</th>\n",
       "    </tr>\n",
       "  </thead>\n",
       "  <tbody>\n",
       "    <tr>\n",
       "      <th>0</th>\n",
       "      <td>2016</td>\n",
       "      <td>Accidents (unintentional injuries) (V01-X59,Y8...</td>\n",
       "      <td>Unintentional injuries</td>\n",
       "      <td>Alabama</td>\n",
       "      <td>2755</td>\n",
       "      <td>55.5</td>\n",
       "    </tr>\n",
       "    <tr>\n",
       "      <th>1</th>\n",
       "      <td>2016</td>\n",
       "      <td>Accidents (unintentional injuries) (V01-X59,Y8...</td>\n",
       "      <td>Unintentional injuries</td>\n",
       "      <td>Alaska</td>\n",
       "      <td>439</td>\n",
       "      <td>63.1</td>\n",
       "    </tr>\n",
       "    <tr>\n",
       "      <th>2</th>\n",
       "      <td>2016</td>\n",
       "      <td>Accidents (unintentional injuries) (V01-X59,Y8...</td>\n",
       "      <td>Unintentional injuries</td>\n",
       "      <td>Arizona</td>\n",
       "      <td>4010</td>\n",
       "      <td>54.2</td>\n",
       "    </tr>\n",
       "    <tr>\n",
       "      <th>3</th>\n",
       "      <td>2016</td>\n",
       "      <td>Accidents (unintentional injuries) (V01-X59,Y8...</td>\n",
       "      <td>Unintentional injuries</td>\n",
       "      <td>Arkansas</td>\n",
       "      <td>1604</td>\n",
       "      <td>51.8</td>\n",
       "    </tr>\n",
       "    <tr>\n",
       "      <th>4</th>\n",
       "      <td>2016</td>\n",
       "      <td>Accidents (unintentional injuries) (V01-X59,Y8...</td>\n",
       "      <td>Unintentional injuries</td>\n",
       "      <td>California</td>\n",
       "      <td>13213</td>\n",
       "      <td>32.0</td>\n",
       "    </tr>\n",
       "  </tbody>\n",
       "</table>\n",
       "</div>"
      ],
      "text/plain": [
       "   Year                                     113 Cause Name  \\\n",
       "0  2016  Accidents (unintentional injuries) (V01-X59,Y8...   \n",
       "1  2016  Accidents (unintentional injuries) (V01-X59,Y8...   \n",
       "2  2016  Accidents (unintentional injuries) (V01-X59,Y8...   \n",
       "3  2016  Accidents (unintentional injuries) (V01-X59,Y8...   \n",
       "4  2016  Accidents (unintentional injuries) (V01-X59,Y8...   \n",
       "\n",
       "               Cause Name       State  Deaths  Age-adjusted Death Rate  \n",
       "0  Unintentional injuries     Alabama    2755                     55.5  \n",
       "1  Unintentional injuries      Alaska     439                     63.1  \n",
       "2  Unintentional injuries     Arizona    4010                     54.2  \n",
       "3  Unintentional injuries    Arkansas    1604                     51.8  \n",
       "4  Unintentional injuries  California   13213                     32.0  "
      ]
     },
     "execution_count": 159,
     "metadata": {},
     "output_type": "execute_result"
    }
   ],
   "source": [
    "#Putting the data into a dataframe\n",
    "df = pandas.read_csv('LCOD.csv')\n",
    "df.head()"
   ]
  },
  {
   "cell_type": "code",
   "execution_count": 160,
   "metadata": {},
   "outputs": [
    {
     "data": {
      "text/plain": [
       "(10296, 6)"
      ]
     },
     "execution_count": 160,
     "metadata": {},
     "output_type": "execute_result"
    }
   ],
   "source": [
    "df.shape"
   ]
  },
  {
   "cell_type": "markdown",
   "metadata": {},
   "source": [
    "** Issues with the data: **\n",
    "* The main issue with the file is the format of grouping it is in\n",
    "* Data supposed to be grouped by cause of death\n",
    "* First cause was split in half (Accident-Half on top, half on bottom)\n",
    "* There is also many different ways to go about studying/using the data (By State, by cause, by year)\n",
    "\n",
    "** Starting with basic info/stats on the data: **\n",
    "  (Death Rate is per 100,000)"
   ]
  },
  {
   "cell_type": "code",
   "execution_count": 161,
   "metadata": {},
   "outputs": [
    {
     "data": {
      "text/html": [
       "<div>\n",
       "<style scoped>\n",
       "    .dataframe tbody tr th:only-of-type {\n",
       "        vertical-align: middle;\n",
       "    }\n",
       "\n",
       "    .dataframe tbody tr th {\n",
       "        vertical-align: top;\n",
       "    }\n",
       "\n",
       "    .dataframe thead th {\n",
       "        text-align: right;\n",
       "    }\n",
       "</style>\n",
       "<table border=\"1\" class=\"dataframe\">\n",
       "  <thead>\n",
       "    <tr style=\"text-align: right;\">\n",
       "      <th></th>\n",
       "      <th>Year</th>\n",
       "      <th>Cause Name</th>\n",
       "      <th>State</th>\n",
       "      <th>Deaths</th>\n",
       "      <th>Age-adjusted Death Rate</th>\n",
       "    </tr>\n",
       "  </thead>\n",
       "  <tbody>\n",
       "    <tr>\n",
       "      <th>0</th>\n",
       "      <td>2016</td>\n",
       "      <td>Unintentional injuries</td>\n",
       "      <td>Alabama</td>\n",
       "      <td>2755</td>\n",
       "      <td>55.5</td>\n",
       "    </tr>\n",
       "    <tr>\n",
       "      <th>1</th>\n",
       "      <td>2016</td>\n",
       "      <td>Unintentional injuries</td>\n",
       "      <td>Alaska</td>\n",
       "      <td>439</td>\n",
       "      <td>63.1</td>\n",
       "    </tr>\n",
       "    <tr>\n",
       "      <th>2</th>\n",
       "      <td>2016</td>\n",
       "      <td>Unintentional injuries</td>\n",
       "      <td>Arizona</td>\n",
       "      <td>4010</td>\n",
       "      <td>54.2</td>\n",
       "    </tr>\n",
       "    <tr>\n",
       "      <th>3</th>\n",
       "      <td>2016</td>\n",
       "      <td>Unintentional injuries</td>\n",
       "      <td>Arkansas</td>\n",
       "      <td>1604</td>\n",
       "      <td>51.8</td>\n",
       "    </tr>\n",
       "    <tr>\n",
       "      <th>4</th>\n",
       "      <td>2016</td>\n",
       "      <td>Unintentional injuries</td>\n",
       "      <td>California</td>\n",
       "      <td>13213</td>\n",
       "      <td>32.0</td>\n",
       "    </tr>\n",
       "  </tbody>\n",
       "</table>\n",
       "</div>"
      ],
      "text/plain": [
       "   Year              Cause Name       State  Deaths  Age-adjusted Death Rate\n",
       "0  2016  Unintentional injuries     Alabama    2755                     55.5\n",
       "1  2016  Unintentional injuries      Alaska     439                     63.1\n",
       "2  2016  Unintentional injuries     Arizona    4010                     54.2\n",
       "3  2016  Unintentional injuries    Arkansas    1604                     51.8\n",
       "4  2016  Unintentional injuries  California   13213                     32.0"
      ]
     },
     "execution_count": 161,
     "metadata": {},
     "output_type": "execute_result"
    }
   ],
   "source": [
    "#Dropping redundant/uneeded column\n",
    "df.drop(['113 Cause Name'], axis = 1, inplace = True)\n",
    "df.head()"
   ]
  },
  {
   "cell_type": "code",
   "execution_count": 162,
   "metadata": {},
   "outputs": [
    {
     "data": {
      "text/html": [
       "<div>\n",
       "<style scoped>\n",
       "    .dataframe tbody tr th:only-of-type {\n",
       "        vertical-align: middle;\n",
       "    }\n",
       "\n",
       "    .dataframe tbody tr th {\n",
       "        vertical-align: top;\n",
       "    }\n",
       "\n",
       "    .dataframe thead th {\n",
       "        text-align: right;\n",
       "    }\n",
       "</style>\n",
       "<table border=\"1\" class=\"dataframe\">\n",
       "  <thead>\n",
       "    <tr style=\"text-align: right;\">\n",
       "      <th></th>\n",
       "      <th>Year</th>\n",
       "      <th>Cause Name</th>\n",
       "      <th>State</th>\n",
       "      <th>Deaths</th>\n",
       "      <th>Age-adjusted Death Rate</th>\n",
       "    </tr>\n",
       "  </thead>\n",
       "  <tbody>\n",
       "    <tr>\n",
       "      <th>10291</th>\n",
       "      <td>2003</td>\n",
       "      <td>Unintentional injuries</td>\n",
       "      <td>Wyoming</td>\n",
       "      <td>273</td>\n",
       "      <td>55.1</td>\n",
       "    </tr>\n",
       "    <tr>\n",
       "      <th>10292</th>\n",
       "      <td>2002</td>\n",
       "      <td>Unintentional injuries</td>\n",
       "      <td>Wyoming</td>\n",
       "      <td>289</td>\n",
       "      <td>58.1</td>\n",
       "    </tr>\n",
       "    <tr>\n",
       "      <th>10293</th>\n",
       "      <td>2001</td>\n",
       "      <td>Unintentional injuries</td>\n",
       "      <td>Wyoming</td>\n",
       "      <td>272</td>\n",
       "      <td>55.5</td>\n",
       "    </tr>\n",
       "    <tr>\n",
       "      <th>10294</th>\n",
       "      <td>2000</td>\n",
       "      <td>Unintentional injuries</td>\n",
       "      <td>Wyoming</td>\n",
       "      <td>245</td>\n",
       "      <td>50.8</td>\n",
       "    </tr>\n",
       "    <tr>\n",
       "      <th>10295</th>\n",
       "      <td>1999</td>\n",
       "      <td>Unintentional injuries</td>\n",
       "      <td>Wyoming</td>\n",
       "      <td>258</td>\n",
       "      <td>52.8</td>\n",
       "    </tr>\n",
       "  </tbody>\n",
       "</table>\n",
       "</div>"
      ],
      "text/plain": [
       "       Year              Cause Name    State  Deaths  Age-adjusted Death Rate\n",
       "10291  2003  Unintentional injuries  Wyoming     273                     55.1\n",
       "10292  2002  Unintentional injuries  Wyoming     289                     58.1\n",
       "10293  2001  Unintentional injuries  Wyoming     272                     55.5\n",
       "10294  2000  Unintentional injuries  Wyoming     245                     50.8\n",
       "10295  1999  Unintentional injuries  Wyoming     258                     52.8"
      ]
     },
     "execution_count": 162,
     "metadata": {},
     "output_type": "execute_result"
    }
   ],
   "source": [
    "df.tail()"
   ]
  },
  {
   "cell_type": "markdown",
   "metadata": {},
   "source": [
    "__Seen below are the causes of death used for the data:__\n",
    "\n",
    "* \"All causes\" are just the ten different causes added together for each state and year *\n",
    "* CLRD\" is Chronic lower respiratory diseases *"
   ]
  },
  {
   "cell_type": "code",
   "execution_count": 163,
   "metadata": {},
   "outputs": [
    {
     "data": {
      "text/plain": [
       "Cause Name\n",
       "All causes                 936\n",
       "Alzheimer's disease        936\n",
       "CLRD                       936\n",
       "Cancer                     936\n",
       "Diabetes                   936\n",
       "Heart disease              936\n",
       "Influenza and pneumonia    936\n",
       "Kidney disease             936\n",
       "Stroke                     936\n",
       "Suicide                    936\n",
       "Unintentional injuries     936\n",
       "dtype: int64"
      ]
     },
     "execution_count": 163,
     "metadata": {},
     "output_type": "execute_result"
    }
   ],
   "source": [
    "causes = df.groupby('Cause Name').size()\n",
    "causes"
   ]
  },
  {
   "cell_type": "code",
   "execution_count": 164,
   "metadata": {
    "scrolled": true
   },
   "outputs": [
    {
     "data": {
      "text/html": [
       "<div>\n",
       "<style scoped>\n",
       "    .dataframe tbody tr th:only-of-type {\n",
       "        vertical-align: middle;\n",
       "    }\n",
       "\n",
       "    .dataframe tbody tr th {\n",
       "        vertical-align: top;\n",
       "    }\n",
       "\n",
       "    .dataframe thead th {\n",
       "        text-align: right;\n",
       "    }\n",
       "</style>\n",
       "<table border=\"1\" class=\"dataframe\">\n",
       "  <thead>\n",
       "    <tr style=\"text-align: right;\">\n",
       "      <th></th>\n",
       "      <th>Year</th>\n",
       "      <th>Cause_Name</th>\n",
       "      <th>State</th>\n",
       "      <th>Deaths</th>\n",
       "      <th>AADeath_Rate</th>\n",
       "    </tr>\n",
       "  </thead>\n",
       "  <tbody>\n",
       "    <tr>\n",
       "      <th>0</th>\n",
       "      <td>2016</td>\n",
       "      <td>Unintentional injuries</td>\n",
       "      <td>Alabama</td>\n",
       "      <td>2755</td>\n",
       "      <td>55.5</td>\n",
       "    </tr>\n",
       "    <tr>\n",
       "      <th>1</th>\n",
       "      <td>2016</td>\n",
       "      <td>Unintentional injuries</td>\n",
       "      <td>Alaska</td>\n",
       "      <td>439</td>\n",
       "      <td>63.1</td>\n",
       "    </tr>\n",
       "    <tr>\n",
       "      <th>2</th>\n",
       "      <td>2016</td>\n",
       "      <td>Unintentional injuries</td>\n",
       "      <td>Arizona</td>\n",
       "      <td>4010</td>\n",
       "      <td>54.2</td>\n",
       "    </tr>\n",
       "    <tr>\n",
       "      <th>3</th>\n",
       "      <td>2016</td>\n",
       "      <td>Unintentional injuries</td>\n",
       "      <td>Arkansas</td>\n",
       "      <td>1604</td>\n",
       "      <td>51.8</td>\n",
       "    </tr>\n",
       "    <tr>\n",
       "      <th>4</th>\n",
       "      <td>2016</td>\n",
       "      <td>Unintentional injuries</td>\n",
       "      <td>California</td>\n",
       "      <td>13213</td>\n",
       "      <td>32.0</td>\n",
       "    </tr>\n",
       "  </tbody>\n",
       "</table>\n",
       "</div>"
      ],
      "text/plain": [
       "   Year              Cause_Name       State  Deaths  AADeath_Rate\n",
       "0  2016  Unintentional injuries     Alabama    2755          55.5\n",
       "1  2016  Unintentional injuries      Alaska     439          63.1\n",
       "2  2016  Unintentional injuries     Arizona    4010          54.2\n",
       "3  2016  Unintentional injuries    Arkansas    1604          51.8\n",
       "4  2016  Unintentional injuries  California   13213          32.0"
      ]
     },
     "execution_count": 164,
     "metadata": {},
     "output_type": "execute_result"
    }
   ],
   "source": [
    "#Renaming two columns for easier use\n",
    "df=df.rename(columns = {'Cause Name':'Cause_Name','Age-adjusted Death Rate':'AADeath_Rate'})\n",
    "df.head()"
   ]
  },
  {
   "cell_type": "markdown",
   "metadata": {},
   "source": [
    "# Data Visualization\n",
    "Because there is a great amount of data, I am visualizing certain portions of the data explained ahead.\n",
    "\n",
    "To start a portion of data is taken from the year 2016."
   ]
  },
  {
   "cell_type": "code",
   "execution_count": 165,
   "metadata": {},
   "outputs": [
    {
     "data": {
      "text/html": [
       "<div>\n",
       "<style scoped>\n",
       "    .dataframe tbody tr th:only-of-type {\n",
       "        vertical-align: middle;\n",
       "    }\n",
       "\n",
       "    .dataframe tbody tr th {\n",
       "        vertical-align: top;\n",
       "    }\n",
       "\n",
       "    .dataframe thead th {\n",
       "        text-align: right;\n",
       "    }\n",
       "</style>\n",
       "<table border=\"1\" class=\"dataframe\">\n",
       "  <thead>\n",
       "    <tr style=\"text-align: right;\">\n",
       "      <th></th>\n",
       "      <th>Year</th>\n",
       "      <th>Cause_Name</th>\n",
       "      <th>State</th>\n",
       "      <th>Deaths</th>\n",
       "      <th>AADeath_Rate</th>\n",
       "    </tr>\n",
       "  </thead>\n",
       "  <tbody>\n",
       "    <tr>\n",
       "      <th>843</th>\n",
       "      <td>2016</td>\n",
       "      <td>All causes</td>\n",
       "      <td>United States</td>\n",
       "      <td>2319475</td>\n",
       "      <td>616.0</td>\n",
       "    </tr>\n",
       "    <tr>\n",
       "      <th>1779</th>\n",
       "      <td>2016</td>\n",
       "      <td>Alzheimer's disease</td>\n",
       "      <td>United States</td>\n",
       "      <td>116103</td>\n",
       "      <td>30.3</td>\n",
       "    </tr>\n",
       "    <tr>\n",
       "      <th>2715</th>\n",
       "      <td>2016</td>\n",
       "      <td>Cancer</td>\n",
       "      <td>United States</td>\n",
       "      <td>598038</td>\n",
       "      <td>155.8</td>\n",
       "    </tr>\n",
       "    <tr>\n",
       "      <th>3651</th>\n",
       "      <td>2016</td>\n",
       "      <td>CLRD</td>\n",
       "      <td>United States</td>\n",
       "      <td>154596</td>\n",
       "      <td>40.6</td>\n",
       "    </tr>\n",
       "    <tr>\n",
       "      <th>4587</th>\n",
       "      <td>2016</td>\n",
       "      <td>Diabetes</td>\n",
       "      <td>United States</td>\n",
       "      <td>80058</td>\n",
       "      <td>21.0</td>\n",
       "    </tr>\n",
       "    <tr>\n",
       "      <th>5525</th>\n",
       "      <td>2016</td>\n",
       "      <td>Heart disease</td>\n",
       "      <td>United States</td>\n",
       "      <td>635260</td>\n",
       "      <td>165.5</td>\n",
       "    </tr>\n",
       "    <tr>\n",
       "      <th>6459</th>\n",
       "      <td>2016</td>\n",
       "      <td>Influenza and pneumonia</td>\n",
       "      <td>United States</td>\n",
       "      <td>51537</td>\n",
       "      <td>13.5</td>\n",
       "    </tr>\n",
       "    <tr>\n",
       "      <th>7396</th>\n",
       "      <td>2016</td>\n",
       "      <td>Kidney disease</td>\n",
       "      <td>United States</td>\n",
       "      <td>50046</td>\n",
       "      <td>13.1</td>\n",
       "    </tr>\n",
       "    <tr>\n",
       "      <th>8331</th>\n",
       "      <td>2016</td>\n",
       "      <td>Stroke</td>\n",
       "      <td>United States</td>\n",
       "      <td>142142</td>\n",
       "      <td>37.3</td>\n",
       "    </tr>\n",
       "    <tr>\n",
       "      <th>9267</th>\n",
       "      <td>2016</td>\n",
       "      <td>Suicide</td>\n",
       "      <td>United States</td>\n",
       "      <td>44965</td>\n",
       "      <td>13.5</td>\n",
       "    </tr>\n",
       "    <tr>\n",
       "      <th>10159</th>\n",
       "      <td>2016</td>\n",
       "      <td>Unintentional injuries</td>\n",
       "      <td>United States</td>\n",
       "      <td>161374</td>\n",
       "      <td>47.4</td>\n",
       "    </tr>\n",
       "  </tbody>\n",
       "</table>\n",
       "</div>"
      ],
      "text/plain": [
       "       Year               Cause_Name          State   Deaths  AADeath_Rate\n",
       "843    2016               All causes  United States  2319475         616.0\n",
       "1779   2016      Alzheimer's disease  United States   116103          30.3\n",
       "2715   2016                   Cancer  United States   598038         155.8\n",
       "3651   2016                     CLRD  United States   154596          40.6\n",
       "4587   2016                 Diabetes  United States    80058          21.0\n",
       "5525   2016            Heart disease  United States   635260         165.5\n",
       "6459   2016  Influenza and pneumonia  United States    51537          13.5\n",
       "7396   2016           Kidney disease  United States    50046          13.1\n",
       "8331   2016                   Stroke  United States   142142          37.3\n",
       "9267   2016                  Suicide  United States    44965          13.5\n",
       "10159  2016   Unintentional injuries  United States   161374          47.4"
      ]
     },
     "execution_count": 165,
     "metadata": {},
     "output_type": "execute_result"
    }
   ],
   "source": [
    "piData = df[(df.Year == 2016)&(df.State=='United States')]\n",
    "piData"
   ]
  },
  {
   "cell_type": "markdown",
   "metadata": {},
   "source": [
    "Above you will see the data taken. Taking advantage of the fact that the data already grouped together a collective data field containing all States data \"United States\", a Pie chart will be made for comparison."
   ]
  },
  {
   "cell_type": "code",
   "execution_count": 166,
   "metadata": {},
   "outputs": [
    {
     "data": {
      "image/png": "[encoded data removed]",
      "text/plain": [
       "<Figure size 432x288 with 1 Axes>"
      ]
     },
     "metadata": {},
     "output_type": "display_data"
    }
   ],
   "source": [
    "#Taking Cause_Name column for labels of pi chart (Removed all causes category)\n",
    "labels = piData['Cause_Name'][1:].tolist()\n",
    "\n",
    "#Taking Deaths column for percentages of pi chart (Removed all causes category)\n",
    "sizes = piData['Deaths'][1:].tolist()\n",
    "\n",
    "#Setting Colors\n",
    "colors = ['Maroon', 'Olive', 'Brown', 'Teal', 'Navy', 'Grey', 'Red', 'Orange', 'Yellow', 'Green']\n",
    "explode = (0.3, 0.3, 0.3, 0.3, 0.3, 0.3, 0.3, 0.3, 0.3, 0.3)\n",
    "\n",
    "#Setting Legend\n",
    "patches, texts = plt.pie(sizes, colors=colors, shadow=True, startangle=90)\n",
    "plt.legend(patches, labels, title=\"Causes\", loc=\"center left\", bbox_to_anchor=(1, 0, 0.5, 1))\n",
    "\n",
    "# Plot\n",
    "plt.pie( sizes, explode=explode, colors=colors, autopct='%1.1f%%', shadow=True, radius=1.9, startangle=90)\n",
    "plt.axis('equal')\n",
    "plt.show()"
   ]
  },
  {
   "cell_type": "markdown",
   "metadata": {},
   "source": [
    "It can clearly be seen that the top two causes of death count for over 60% of the deaths in the data.\n",
    "\n",
    "Now, the mean of each diseases death rate for the years 1999 and 2016 are picked, calculated, and stored into comparable lists for use."
   ]
  },
  {
   "cell_type": "code",
   "execution_count": 167,
   "metadata": {},
   "outputs": [],
   "source": [
    "#Picking data and mean for each disease for 2016 (US States + DOC)\n",
    "alData = df[(df.Year == 2016)&(df.Cause_Name=='Alzheimer\\'s disease')&(df.State!='United States')]\n",
    "alMean = alData['AADeath_Rate'].mean()\n",
    "caData = df[(df.Year == 2016)&(df.Cause_Name=='Cancer')&(df.State!='United States')]\n",
    "caMean = caData['AADeath_Rate'].mean()\n",
    "clData = df[(df.Year == 2016)&(df.Cause_Name=='CLRD')&(df.State!='United States')]\n",
    "clMean = clData['AADeath_Rate'].mean()\n",
    "diData = df[(df.Year == 2016)&(df.Cause_Name=='Diabetes')&(df.State!='United States')]\n",
    "diMean = diData['AADeath_Rate'].mean()\n",
    "heData = df[(df.Year == 2016)&(df.Cause_Name=='Heart disease')&(df.State!='United States')]\n",
    "heMean = heData['AADeath_Rate'].mean()\n",
    "inData = df[(df.Year == 2016)&(df.Cause_Name=='Influenza and pneumonia')&(df.State!='United States')]\n",
    "inMean = inData['AADeath_Rate'].mean()\n",
    "kiData = df[(df.Year == 2016)&(df.Cause_Name=='Kidney disease')&(df.State!='United States')]\n",
    "kiMean = kiData['AADeath_Rate'].mean()\n",
    "stData = df[(df.Year == 2016)&(df.Cause_Name=='Stroke')&(df.State!='United States')]\n",
    "stMean = stData['AADeath_Rate'].mean()\n",
    "suData = df[(df.Year == 2016)&(df.Cause_Name=='Suicide')&(df.State!='United States')]\n",
    "suMean = suData['AADeath_Rate'].mean()\n",
    "unData = df[(df.Year == 2016)&(df.Cause_Name=='Unintentional injuries')&(df.State!='United States')]\n",
    "unMean = unData['AADeath_Rate'].mean()\n",
    "meanList = [alMean, caMean, clMean, diMean, heMean, inMean, kiMean, stMean, suMean, unMean]\n",
    "\n",
    "#Picking data and mean for each disease for 1999 (US States + DOC)\n",
    "alData1 = df[(df.Year == 1999)&(df.Cause_Name=='Alzheimer\\'s disease')&(df.State!='United States')]\n",
    "alMean1 = alData1['AADeath_Rate'].mean()\n",
    "caData1 = df[(df.Year == 1999)&(df.Cause_Name=='Cancer')&(df.State!='United States')]\n",
    "caMean1 = caData1['AADeath_Rate'].mean()\n",
    "clData1 = df[(df.Year == 1999)&(df.Cause_Name=='CLRD')&(df.State!='United States')]\n",
    "clMean1 = clData1['AADeath_Rate'].mean()\n",
    "diData1 = df[(df.Year == 1999)&(df.Cause_Name=='Diabetes')&(df.State!='United States')]\n",
    "diMean1 = diData1['AADeath_Rate'].mean()\n",
    "heData1 = df[(df.Year == 1999)&(df.Cause_Name=='Heart disease')&(df.State!='United States')]\n",
    "heMean1 = heData1['AADeath_Rate'].mean()\n",
    "inData1 = df[(df.Year == 1999)&(df.Cause_Name=='Influenza and pneumonia')&(df.State!='United States')]\n",
    "inMean1 = inData1['AADeath_Rate'].mean()\n",
    "kiData1 = df[(df.Year == 1999)&(df.Cause_Name=='Kidney disease')&(df.State!='United States')]\n",
    "kiMean1 = kiData1['AADeath_Rate'].mean()\n",
    "stData1 = df[(df.Year == 1999)&(df.Cause_Name=='Stroke')&(df.State!='United States')]\n",
    "stMean1 = stData1['AADeath_Rate'].mean()\n",
    "suData1 = df[(df.Year == 1999)&(df.Cause_Name=='Suicide')&(df.State!='United States')]\n",
    "suMean1 = suData1['AADeath_Rate'].mean()\n",
    "unData1 = df[(df.Year == 1999)&(df.Cause_Name=='Unintentional injuries')&(df.State!='United States')]\n",
    "unMean1 = unData1['AADeath_Rate'].mean()\n",
    "meanList1 = [alMean1, caMean1, clMean1, diMean1, heMean1, inMean1, kiMean1, stMean1, suMean1, unMean1]"
   ]
  },
  {
   "cell_type": "markdown",
   "metadata": {},
   "source": [
    "The means are now going to be plotted on a horizontal bar chart for easy comparison."
   ]
  },
  {
   "cell_type": "code",
   "execution_count": 168,
   "metadata": {},
   "outputs": [
    {
     "data": {
      "image/png": "[encoded data removed]",
      "text/plain": [
       "<Figure size 432x288 with 1 Axes>"
      ]
     },
     "metadata": {},
     "output_type": "display_data"
    }
   ],
   "source": [
    "#Data to plot\n",
    "n_groups = 10\n",
    "means_2016 = meanList\n",
    "means_1999 = meanList1\n",
    " \n",
    "#Create plot\n",
    "fig, ax = plt.subplots()\n",
    "index = np.arange(n_groups)\n",
    "bar_width = 0.35\n",
    "opacity = 0.99\n",
    "\n",
    "#Create each bar\n",
    "rects1 = plt.barh(index + bar_width, means_1999, bar_width,\n",
    "                 alpha=opacity,\n",
    "                 color='y',\n",
    "                 label='1999')\n",
    "rects2 = plt.barh(index, means_2016, bar_width,\n",
    "                 alpha=opacity,\n",
    "                 color='b',\n",
    "                 label='2016')\n",
    "\n",
    "#Finishing touches\n",
    "plt.xlabel('Mean')\n",
    "plt.title('Mean Death Rate 1999 VS 2016')\n",
    "plt.yticks(index + bar_width, labels)\n",
    "plt.legend()\n",
    "plt.tight_layout()\n",
    "plt.show()"
   ]
  },
  {
   "cell_type": "markdown",
   "metadata": {},
   "source": [
    "As seen above there is decent contrast in mean between the years for mostly all causes especially Heart Disease.\n",
    "\n",
    "Judging by the graph it seems as though total death rate for the top ten causes has gone down. Let's plot total death rate over the years to confirm."
   ]
  },
  {
   "cell_type": "code",
   "execution_count": 169,
   "metadata": {},
   "outputs": [
    {
     "data": {
      "image/png": "[encoded data removed]",
      "text/plain": [
       "<Figure size 432x288 with 1 Axes>"
      ]
     },
     "metadata": {},
     "output_type": "display_data"
    }
   ],
   "source": [
    "year = [i + 1 for i in range(1998,2016)]\n",
    "dr = df[(df.Cause_Name == 'All causes')&(df.State=='United States')]\n",
    "dr = dr['AADeath_Rate'].tolist()\n",
    "dr = list(reversed(dr))\n",
    "plt.plot(year, dr, color='g')\n",
    "plt.xlabel('Year')\n",
    "plt.ylabel('Death Rate Per 100,000')\n",
    "plt.title('Death Rate 1999-2016')\n",
    "plt.show()"
   ]
  },
  {
   "cell_type": "markdown",
   "metadata": {},
   "source": [
    "As you can see, the death rate has definitely decreased over time.\n",
    "\n",
    "\n",
    "To finish this section here are the basic stats of each cause for 2016."
   ]
  },
  {
   "cell_type": "code",
   "execution_count": 170,
   "metadata": {},
   "outputs": [
    {
     "data": {
      "text/html": [
       "<div>\n",
       "<style scoped>\n",
       "    .dataframe tbody tr th:only-of-type {\n",
       "        vertical-align: middle;\n",
       "    }\n",
       "\n",
       "    .dataframe tbody tr th {\n",
       "        vertical-align: top;\n",
       "    }\n",
       "\n",
       "    .dataframe thead th {\n",
       "        text-align: right;\n",
       "    }\n",
       "</style>\n",
       "<table border=\"1\" class=\"dataframe\">\n",
       "  <thead>\n",
       "    <tr style=\"text-align: right;\">\n",
       "      <th></th>\n",
       "      <th>Cause</th>\n",
       "      <th>Max</th>\n",
       "      <th>Mean</th>\n",
       "      <th>Median</th>\n",
       "      <th>Min</th>\n",
       "      <th>Standard D.</th>\n",
       "    </tr>\n",
       "  </thead>\n",
       "  <tbody>\n",
       "    <tr>\n",
       "      <th>0</th>\n",
       "      <td>Alzheimer's disease</td>\n",
       "      <td>45.8</td>\n",
       "      <td>30.925490</td>\n",
       "      <td>31.7</td>\n",
       "      <td>13.1</td>\n",
       "      <td>8.483345</td>\n",
       "    </tr>\n",
       "    <tr>\n",
       "      <th>1</th>\n",
       "      <td>Cancer</td>\n",
       "      <td>193.8</td>\n",
       "      <td>158.150980</td>\n",
       "      <td>158.0</td>\n",
       "      <td>122.4</td>\n",
       "      <td>14.731468</td>\n",
       "    </tr>\n",
       "    <tr>\n",
       "      <th>2</th>\n",
       "      <td>CLRD</td>\n",
       "      <td>66.3</td>\n",
       "      <td>43.162745</td>\n",
       "      <td>43.5</td>\n",
       "      <td>17.7</td>\n",
       "      <td>10.460802</td>\n",
       "    </tr>\n",
       "    <tr>\n",
       "      <th>3</th>\n",
       "      <td>Diabetes</td>\n",
       "      <td>34.8</td>\n",
       "      <td>21.505882</td>\n",
       "      <td>20.5</td>\n",
       "      <td>14.9</td>\n",
       "      <td>4.221157</td>\n",
       "    </tr>\n",
       "    <tr>\n",
       "      <th>4</th>\n",
       "      <td>Heart disease</td>\n",
       "      <td>233.1</td>\n",
       "      <td>166.970588</td>\n",
       "      <td>159.2</td>\n",
       "      <td>114.9</td>\n",
       "      <td>28.707249</td>\n",
       "    </tr>\n",
       "    <tr>\n",
       "      <th>5</th>\n",
       "      <td>Influenza and pneumonia</td>\n",
       "      <td>24.4</td>\n",
       "      <td>13.729412</td>\n",
       "      <td>13.9</td>\n",
       "      <td>7.0</td>\n",
       "      <td>3.491893</td>\n",
       "    </tr>\n",
       "    <tr>\n",
       "      <th>6</th>\n",
       "      <td>Kidney disease</td>\n",
       "      <td>22.8</td>\n",
       "      <td>13.058824</td>\n",
       "      <td>12.4</td>\n",
       "      <td>3.7</td>\n",
       "      <td>4.457002</td>\n",
       "    </tr>\n",
       "    <tr>\n",
       "      <th>7</th>\n",
       "      <td>Stroke</td>\n",
       "      <td>51.6</td>\n",
       "      <td>37.162745</td>\n",
       "      <td>37.3</td>\n",
       "      <td>25.5</td>\n",
       "      <td>5.975884</td>\n",
       "    </tr>\n",
       "    <tr>\n",
       "      <th>8</th>\n",
       "      <td>Suicide</td>\n",
       "      <td>25.9</td>\n",
       "      <td>15.584314</td>\n",
       "      <td>14.9</td>\n",
       "      <td>5.2</td>\n",
       "      <td>4.695333</td>\n",
       "    </tr>\n",
       "    <tr>\n",
       "      <th>9</th>\n",
       "      <td>Unintentional injuries</td>\n",
       "      <td>89.7</td>\n",
       "      <td>52.366667</td>\n",
       "      <td>52.4</td>\n",
       "      <td>32.0</td>\n",
       "      <td>10.887050</td>\n",
       "    </tr>\n",
       "  </tbody>\n",
       "</table>\n",
       "</div>"
      ],
      "text/plain": [
       "                     Cause    Max        Mean  Median    Min  Standard D.\n",
       "0      Alzheimer's disease   45.8   30.925490    31.7   13.1     8.483345\n",
       "1                   Cancer  193.8  158.150980   158.0  122.4    14.731468\n",
       "2                     CLRD   66.3   43.162745    43.5   17.7    10.460802\n",
       "3                 Diabetes   34.8   21.505882    20.5   14.9     4.221157\n",
       "4            Heart disease  233.1  166.970588   159.2  114.9    28.707249\n",
       "5  Influenza and pneumonia   24.4   13.729412    13.9    7.0     3.491893\n",
       "6           Kidney disease   22.8   13.058824    12.4    3.7     4.457002\n",
       "7                   Stroke   51.6   37.162745    37.3   25.5     5.975884\n",
       "8                  Suicide   25.9   15.584314    14.9    5.2     4.695333\n",
       "9   Unintentional injuries   89.7   52.366667    52.4   32.0    10.887050"
      ]
     },
     "execution_count": 170,
     "metadata": {},
     "output_type": "execute_result"
    }
   ],
   "source": [
    "stdList = [alData['AADeath_Rate'].std(), caData['AADeath_Rate'].std(), clData['AADeath_Rate'].std(), diData['AADeath_Rate'].std(), heData['AADeath_Rate'].std(), inData['AADeath_Rate'].std(), kiData['AADeath_Rate'].std(), stData['AADeath_Rate'].std(), suData['AADeath_Rate'].std(), unData['AADeath_Rate'].std()]\n",
    "medList = [alData['AADeath_Rate'].median(), caData['AADeath_Rate'].median(), clData['AADeath_Rate'].median(), diData['AADeath_Rate'].median(), heData['AADeath_Rate'].median(), inData['AADeath_Rate'].median(), kiData['AADeath_Rate'].median(), stData['AADeath_Rate'].median(), suData['AADeath_Rate'].median(), unData['AADeath_Rate'].median()]\n",
    "minList = [alData['AADeath_Rate'].min(), caData['AADeath_Rate'].min(), clData['AADeath_Rate'].min(), diData['AADeath_Rate'].min(), heData['AADeath_Rate'].min(), inData['AADeath_Rate'].min(), kiData['AADeath_Rate'].min(), stData['AADeath_Rate'].min(), suData['AADeath_Rate'].min(), unData['AADeath_Rate'].min()]\n",
    "maxList = [alData['AADeath_Rate'].max(), caData['AADeath_Rate'].max(), clData['AADeath_Rate'].max(), diData['AADeath_Rate'].max(), heData['AADeath_Rate'].max(), inData['AADeath_Rate'].max(), kiData['AADeath_Rate'].max(), stData['AADeath_Rate'].max(), suData['AADeath_Rate'].max(), unData['AADeath_Rate'].max()]\n",
    "stat = {'Cause': labels, 'Mean': meanList, 'Standard D.': stdList, 'Median': medList, 'Min': minList, 'Max': maxList}\n",
    "statdf = pd.DataFrame(stat)\n",
    "statdf"
   ]
  },
  {
   "cell_type": "markdown",
   "metadata": {},
   "source": [
    "#### Linear Regression\n",
    "This dataset is not particularly the best for regression but I will try to make a sample work. In the bar chart above, it is seen that the suicide catagory has increased between 1999 and 2016. Let's build a model and try to predict the future. From 1999 to 2010 will be our training data, and the rest will be our test data."
   ]
  },
  {
   "cell_type": "code",
   "execution_count": 149,
   "metadata": {},
   "outputs": [],
   "source": [
    "suic = df[(df.Cause_Name == 'Suicide')&(df.State=='United States')]\n",
    "train = suic[6:18]\n",
    "train = list(train['Deaths'])\n",
    "train = list(reversed(train))\n",
    "train = np.array(train)\n",
    "train=train.reshape(-1,1)\n",
    "trainy = np.array([1999,2000,2001,2002,2003,2004,2005,2006,2007,2008,2009,2010])\n",
    "trainy = trainy.reshape(-1,1) \n",
    "test = suic[0:6]\n",
    "test = list(test['Deaths'])\n",
    "test = list(reversed(test))\n",
    "test = np.array(test)\n",
    "test = test.reshape(-1,1)\n",
    "testy = np.array([2011,2012,2013,2014,2015,2016])\n",
    "testy = testy.reshape(-1,1)"
   ]
  },
  {
   "cell_type": "code",
   "execution_count": 154,
   "metadata": {},
   "outputs": [
    {
     "data": {
      "text/plain": [
       "LinearRegression(copy_X=True, fit_intercept=True, n_jobs=1, normalize=False)"
      ]
     },
     "execution_count": 154,
     "metadata": {},
     "output_type": "execute_result"
    }
   ],
   "source": [
    "reg = linear_model.LinearRegression()\n",
    "reg.fit (trainy, train)"
   ]
  },
  {
   "cell_type": "code",
   "execution_count": 155,
   "metadata": {},
   "outputs": [
    {
     "data": {
      "text/plain": [
       "array([[794.04895105]])"
      ]
     },
     "execution_count": 155,
     "metadata": {},
     "output_type": "execute_result"
    }
   ],
   "source": [
    "reg.coef_"
   ]
  },
  {
   "cell_type": "code",
   "execution_count": 156,
   "metadata": {},
   "outputs": [
    {
     "data": {
      "text/plain": [
       "array([-1558621.78904429])"
      ]
     },
     "execution_count": 156,
     "metadata": {},
     "output_type": "execute_result"
    }
   ],
   "source": [
    "reg.intercept_"
   ]
  },
  {
   "cell_type": "code",
   "execution_count": 157,
   "metadata": {},
   "outputs": [
    {
     "data": {
      "text/plain": [
       "[<matplotlib.lines.Line2D at 0xd02c0f0>]"
      ]
     },
     "execution_count": 157,
     "metadata": {},
     "output_type": "execute_result"
    },
    {
     "data": {
      "image/png": "[encoded data removed]",
      "text/plain": [
       "<Figure size 432x288 with 1 Axes>"
      ]
     },
     "metadata": {},
     "output_type": "display_data"
    }
   ],
   "source": [
    "plt.clf()\n",
    "plt.scatter(trainy, train, color=\"b\", label=\"train data\")\n",
    "plt.scatter(testy, test, color=\"r\", label=\"test data\")\n",
    "plt.plot(testy, reg.predict(testy), color=\"black\")"
   ]
  },
  {
   "cell_type": "markdown",
   "metadata": {},
   "source": [
    "Trying to predict 2011-2016 national suicide amounts did not work so well but hey, we tried."
   ]
  },
  {
   "cell_type": "markdown",
   "metadata": {},
   "source": [
    "A lot can be learned from this data. It is clear that the amount of deaths are decreasing by year for the United states but at the same time, as seen above, certain causes do not follow said trend. This data can be interpereted in many ways and for many purposes. For example, suicide deaths are increasing, but why? Can it be correlated (maybe causation) from things such as the internet? Is the reason for lower death amount from increases awareness of nutrition and exercise? In general it is possible explore each state by itself and compare trends to see what external factors are working for each cause of death (Increasing/decreasing)."
   ]
  },
  {
   "cell_type": "code",
   "execution_count": null,
   "metadata": {},
   "outputs": [],
   "source": []
  }
 ],
 "metadata": {
  "kernelspec": {
   "display_name": "Python 2",
   "language": "python",
   "name": "python2"
  },
  "language_info": {
   "codemirror_mode": {
    "name": "ipython",
    "version": 2
   },
   "file_extension": ".py",
   "mimetype": "text/x-python",
   "name": "python",
   "nbconvert_exporter": "python",
   "pygments_lexer": "ipython2",
   "version": "2.7.15"
  }
 },
 "nbformat": 4,
 "nbformat_minor": 2
}
