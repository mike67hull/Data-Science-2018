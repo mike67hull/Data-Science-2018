{
 "cells": [
  {
   "cell_type": "markdown",
   "metadata": {},
   "source": [
    "#### Michael Hull\n",
    "#### Intro to Data Science\n",
    "#### First Data Visualization\n",
    "#### September 21 2018\n",
    "---\n",
    "__ United States data for: __ * Births, Fertility Rate, Deaths, Death Rate *\n",
    "\n",
    "   __ Data Harvested From: __ [CDC Website](https://www.cdc.gov/nchs/fastats/state-and-territorial-data.htm)"
   ]
  },
  {
   "cell_type": "code",
   "execution_count": 1,
   "metadata": {
    "scrolled": true
   },
   "outputs": [],
   "source": [
    "import pandas\n",
    "import xlrd\n",
    "import plotly\n",
    "import plotly.plotly as py\n",
    "plotly.tools.set_credentials_file(username='mike67hull', api_key='m8I6ERi8DIZNL5iBqdgM')"
   ]
  },
  {
   "cell_type": "code",
   "execution_count": 2,
   "metadata": {},
   "outputs": [
    {
     "name": "stdout",
     "output_type": "stream",
     "text": [
      "  State/Territory  Births  Fertility Rate  Deaths  Death Rate State Region\n",
      "0         Alabama   59151            62.1   51909      1068.3    AL  South\n",
      "1          Alaska   11209            76.1    4316       584.5    AK   West\n",
      "2         Arizona   84520            63.5   54299       795.2    AZ   West\n",
      "3        Arkansas   38274            66.4   31617      1061.6    AR  South\n",
      "4      California  488827            60.6  259206       662.2    CA   West\n"
     ]
    }
   ],
   "source": [
    "df = pandas.read_excel('US_CENSUS_ITDS 3.xlsx')\n",
    "print df.head()\n",
    "#Death Rate per 100,000 citizens\n",
    "#Fertility rate is births per 1,000 women"
   ]
  },
  {
   "cell_type": "code",
   "execution_count": 6,
   "metadata": {},
   "outputs": [
    {
     "name": "stdout",
     "output_type": "stream",
     "text": [
      "High five! You successfully sent some data to your account on plotly. View your plot in your browser at https://plot.ly/~mike67hull/0 or inside your plot.ly account where it is named 'd3-cloropleth-map'\n"
     ]
    },
    {
     "data": {
      "text/html": [
       "<iframe id=\"igraph\" scrolling=\"no\" style=\"border:none;\" seamless=\"seamless\" src=\"https://plot.ly/~mike67hull/0.embed\" height=\"525px\" width=\"100%\"></iframe>"
      ],
      "text/plain": [
       "<plotly.tools.PlotlyDisplay object>"
      ]
     },
     "execution_count": 6,
     "metadata": {},
     "output_type": "execute_result"
    }
   ],
   "source": [
    "#https://plot.ly/python/custom-buttons/\n",
    "for col in df.columns:\n",
    "    df[col] = df[col].astype(str)\n",
    "\n",
    "scl = [[0.0, 'rgb(242,240,247)'],[0.2, 'rgb(218,218,235)'],[0.4, 'rgb(188,189,220)'],\\\n",
    "            [0.6, 'rgb(158,154,200)'],[0.8, 'rgb(117,107,177)'],[1.0, 'rgb(84,39,143)']]\n",
    "scl2 = [[0.0, 'rgb(0,0,0)'],[0.2, 'rgb(218,218,235)'],[0.4, 'rgb(188,189,220)'],\\\n",
    "            [0.6, 'rgb(158,154,200)'],[0.8, 'rgb(111,111,111)'],[1.0, 'rgb(84,39,143)']]\n",
    "\n",
    "df['text'] ='State: '+df['State/Territory']+ '<br>' + 'Births: ' + df['Births'] +'<br>' + 'Fertility Rate: '+ df['Fertility Rate'] + '<br>' + 'Deaths: ' + df['Deaths']\n",
    "death = [ dict(\n",
    "        type='choropleth',\n",
    "        colorscale = scl,\n",
    "        autocolorscale = False,\n",
    "        locations = df['State'],\n",
    "        z = df['Death Rate'].astype(float),\n",
    "        locationmode = 'USA-states',\n",
    "        text = df['text'],\n",
    "        marker = dict(\n",
    "            line = dict (\n",
    "                color = 'rgb(255,255,255)',\n",
    "                width = 2\n",
    "            ) ),\n",
    "        colorbar = dict(\n",
    "            title = \"Death Rate (Per 100,000 Citizens)\")\n",
    "        )]\n",
    "birth = [ dict(\n",
    "        type='choropleth',\n",
    "        colorscale = scl2,\n",
    "        autocolorscale = False,\n",
    "        locations = df['State'],\n",
    "        z = df['Fertility Rate'].astype(float),\n",
    "        locationmode = 'USA-states',\n",
    "        text = df['text'],\n",
    "        marker = dict(\n",
    "            line = dict (\n",
    "                color = 'rgb(255,255,255)',\n",
    "                width = 2\n",
    "            ) ),\n",
    "        colorbar = dict(\n",
    "            title = \"Birth Rate (Per 1,000 Women)\")\n",
    "        )]\n",
    "\n",
    "data = [death, birth]\n",
    "updatemenus = list([\n",
    "    dict(type=\"buttons\",\n",
    "         active=-1,\n",
    "         buttons=list([\n",
    "            dict(label = 'Death Rate',\n",
    "                 method = 'update',\n",
    "                 args = [{'visible': [True, False]},\n",
    "                         {'title': 'Death Rate (Per 100,000 People)'}\n",
    "                         ]),\n",
    "            dict(label = 'Fertility Rate',\n",
    "                 method = 'update',\n",
    "                 args = [{'visible': [False, True]},\n",
    "                         {'title': 'Fertility Rate (Per 1,000 Women)'},\n",
    "                         {'layout': 'layout'}\n",
    "                         ]),\n",
    "        ]),\n",
    "    )\n",
    "])\n",
    "\n",
    "layout = dict(\n",
    "        title = '2015 Deaths/2016 Births<br>(Hover for breakdown)',\n",
    "        geo = dict(\n",
    "            scope='usa',\n",
    "            projection=dict( type='albers usa' ),\n",
    "            showlakes = True,\n",
    "            lakecolor = 'rgb(255, 255, 255)'),\n",
    "            updatemenus=updatemenus,\n",
    "             )\n",
    "\n",
    "fig = dict( data=death, layout=layout )\n",
    "py.iplot(fig , filename='d3-cloropleth-map',auto_open=False)"
   ]
  },
  {
   "cell_type": "code",
   "execution_count": null,
   "metadata": {},
   "outputs": [],
   "source": []
  }
 ],
 "metadata": {
  "kernelspec": {
   "display_name": "Python 2",
   "language": "python",
   "name": "python2"
  },
  "language_info": {
   "codemirror_mode": {
    "name": "ipython",
    "version": 2
   },
   "file_extension": ".py",
   "mimetype": "text/x-python",
   "name": "python",
   "nbconvert_exporter": "python",
   "pygments_lexer": "ipython2",
   "version": "2.7.15"
  }
 },
 "nbformat": 4,
 "nbformat_minor": 2
}
